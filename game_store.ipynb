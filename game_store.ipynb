{
  "nbformat": 4,
  "nbformat_minor": 0,
  "metadata": {
    "kernelspec": {
      "display_name": "Python 3",
      "language": "python",
      "name": "python3"
    },
    "language_info": {
      "codemirror_mode": {
        "name": "ipython",
        "version": 3
      },
      "file_extension": ".py",
      "mimetype": "text/x-python",
      "name": "python",
      "nbconvert_exporter": "python",
      "pygments_lexer": "ipython3",
      "version": "3.7.8"
    },
    "toc": {
      "base_numbering": 1,
      "nav_menu": {},
      "number_sections": true,
      "sideBar": true,
      "skip_h1_title": true,
      "title_cell": "Содержание",
      "title_sidebar": "Contents",
      "toc_cell": true,
      "toc_position": {},
      "toc_section_display": true,
      "toc_window_display": false
    },
    "colab": {
      "name": "game-store.ipynb",
      "provenance": [],
      "collapsed_sections": []
    }
  },
  "cells": [
    {
      "cell_type": "markdown",
      "metadata": {
        "id": "OzV8VjChV_Zw"
      },
      "source": [
        "## Введение"
      ]
    },
    {
      "cell_type": "markdown",
      "metadata": {
        "id": "ht4PCGKDV_Zx"
      },
      "source": [
        "Описание данных:\n",
        "\n",
        "Name — название игры\n",
        "\n",
        "Platform — платформа\n",
        "\n",
        "Year_of_Release — год выпуска\n",
        "\n",
        "Genre — жанр игры\n",
        "\n",
        "NA_sales — продажи в Северной Америке (миллионы проданных копий)\n",
        "\n",
        "EU_sales — продажи в Европе (миллионы проданных копий)\n",
        "\n",
        "JP_sales — продажи в Японии (миллионы проданных копий)\n",
        "\n",
        "Other_sales — продажи в других странах (миллионы проданных копий)\n",
        "\n",
        "Critic_Score — оценка критиков (максимум 100)\n",
        "\n",
        "User_Score — оценка пользователей (максимум 10)\n",
        "\n",
        "Rating — рейтинг от организации ESRB (англ. Entertainment Software Rating Board). Эта ассоциация определяет рейтинг компьютерных игр и присваивает им подходящую возрастную категорию."
      ]
    },
    {
      "cell_type": "markdown",
      "metadata": {
        "id": "LckZshHkV_Zx"
      },
      "source": [
        "## Изучение данных из файла"
      ]
    },
    {
      "cell_type": "code",
      "metadata": {
        "id": "97FwkeJOV_Zy"
      },
      "source": [
        "import pandas as pd\n",
        "import numpy as np\n",
        "import matplotlib.pyplot as plt\n",
        "import seaborn as sns\n",
        "from scipy import stats as st"
      ],
      "execution_count": null,
      "outputs": []
    },
    {
      "cell_type": "markdown",
      "metadata": {
        "id": "YZCyzBd5V_Zz"
      },
      "source": [
        "Посмотрим на датасет"
      ]
    },
    {
      "cell_type": "code",
      "metadata": {
        "id": "8euTtxEwV_Zz"
      },
      "source": [
        "df.head()"
      ],
      "execution_count": null,
      "outputs": []
    },
    {
      "cell_type": "markdown",
      "metadata": {
        "id": "X-ajXfQdV_Zz"
      },
      "source": [
        "Изучим датасет"
      ]
    },
    {
      "cell_type": "code",
      "metadata": {
        "id": "6FqE0pz5V_Z0",
        "outputId": "e32a09d5-4c87-438a-d043-154628cf5241"
      },
      "source": [
        "df.info()"
      ],
      "execution_count": null,
      "outputs": [
        {
          "output_type": "stream",
          "text": [
            "<class 'pandas.core.frame.DataFrame'>\n",
            "RangeIndex: 16715 entries, 0 to 16714\n",
            "Data columns (total 11 columns):\n",
            "Name               16713 non-null object\n",
            "Platform           16715 non-null object\n",
            "Year_of_Release    16446 non-null float64\n",
            "Genre              16713 non-null object\n",
            "NA_sales           16715 non-null float64\n",
            "EU_sales           16715 non-null float64\n",
            "JP_sales           16715 non-null float64\n",
            "Other_sales        16715 non-null float64\n",
            "Critic_Score       8137 non-null float64\n",
            "User_Score         10014 non-null object\n",
            "Rating             9949 non-null object\n",
            "dtypes: float64(6), object(5)\n",
            "memory usage: 1.4+ MB\n"
          ],
          "name": "stdout"
        }
      ]
    },
    {
      "cell_type": "code",
      "metadata": {
        "id": "limBpPnEV_Z0"
      },
      "source": [
        "df.isna().mean()"
      ],
      "execution_count": null,
      "outputs": []
    },
    {
      "cell_type": "code",
      "metadata": {
        "id": "9FKWZ8R-V_Z1"
      },
      "source": [
        "df.duplicated().sum()"
      ],
      "execution_count": null,
      "outputs": []
    },
    {
      "cell_type": "code",
      "metadata": {
        "id": "A2Hf-k3fV_Z1"
      },
      "source": [
        "df['name'].value_counts()"
      ],
      "execution_count": null,
      "outputs": []
    },
    {
      "cell_type": "markdown",
      "metadata": {
        "id": "0bisayEHV_Z1"
      },
      "source": [
        "### Вывод"
      ]
    },
    {
      "cell_type": "markdown",
      "metadata": {
        "id": "HaV2xX5hV_Z3"
      },
      "source": [
        "В данном шаге подгрузили нужные библиотеки, изучили датасет разными методами. Дубликатов нет - это хорошо, а вот с пропусками дела обстоят намного хуже - в некоторых столбцах их очень много, в частности в \"critic_score\" их больше половины. Некоторые типы данных необходимо заменить. В названиях столбцов присутствуют заглавные буквы, они будут нам мешать - нужно их заменить строчными. Всего игр - 11559, значения их повторяются, значит одни и те же игры выходили для разных платформ."
      ]
    },
    {
      "cell_type": "markdown",
      "metadata": {
        "id": "sBhDDqqZV_Z3"
      },
      "source": [
        "## Предобработка данных"
      ]
    },
    {
      "cell_type": "markdown",
      "metadata": {
        "id": "tvYWx-q1V_Z3"
      },
      "source": [
        "Приведем названия столбцов к нижнему регистру"
      ]
    },
    {
      "cell_type": "code",
      "metadata": {
        "id": "8SUjnecJV_Z4"
      },
      "source": [
        "df.columns = df.columns.str.lower()"
      ],
      "execution_count": null,
      "outputs": []
    },
    {
      "cell_type": "markdown",
      "metadata": {
        "id": "jL18nHl7V_Z4"
      },
      "source": [
        "Заменим тип данных для столбцов. Для столбца \"year_of_release\" тип поменяем на int, чтобы не мешали нули после запятой (так как сейчас при попытке изменения типа выдается ошибка, тип заменим после предобработки). Столбцы \"critic_score\" и \"user_score\" переведем в числовой тип."
      ]
    },
    {
      "cell_type": "code",
      "metadata": {
        "id": "tJJkRWJtV_Z4"
      },
      "source": [
        "df['year_of_release'] = pd.to_datetime(df['year_of_release'], format='%Y')\n",
        "df['year_of_release'] = df['year_of_release'].astype('int')\n",
        "df[\"critic_score\"] = pd.to_numeric(df[\"critic_score\"], errors='coerce')\n",
        "df[\"user_score\"] = pd.to_numeric(df[\"user_score\"], errors='coerce')"
      ],
      "execution_count": null,
      "outputs": []
    },
    {
      "cell_type": "code",
      "metadata": {
        "id": "k3ZlWNy9V_Z4"
      },
      "source": [
        "df.info()"
      ],
      "execution_count": null,
      "outputs": []
    },
    {
      "cell_type": "markdown",
      "metadata": {
        "id": "vLX9E7xZV_Z5"
      },
      "source": [
        "Проанализируем пропуски"
      ]
    },
    {
      "cell_type": "code",
      "metadata": {
        "id": "PWAw6tVqV_Z5"
      },
      "source": [
        "df[df['name'].isnull()]"
      ],
      "execution_count": null,
      "outputs": []
    },
    {
      "cell_type": "code",
      "metadata": {
        "id": "uFgD0-A0V_Z5"
      },
      "source": [
        "df[df['critic_score'].isnull()][50:100]"
      ],
      "execution_count": null,
      "outputs": []
    },
    {
      "cell_type": "code",
      "metadata": {
        "id": "S0pUE4nrV_Z5"
      },
      "source": [
        "df[(df['critic_score'].isnull()) & (df['year_of_release'] < '2010') & (df['na_sales'] > 1)]"
      ],
      "execution_count": null,
      "outputs": []
    },
    {
      "cell_type": "code",
      "metadata": {
        "id": "sopFwdx9V_Z5"
      },
      "source": [
        "df[df['na_sales'] > 10].sort_values(by = 'name')"
      ],
      "execution_count": null,
      "outputs": []
    },
    {
      "cell_type": "markdown",
      "metadata": {
        "id": "o5LRbY1nV_Z5"
      },
      "source": [
        "Пропуски удалять мы не станем, даже те, которые в столбцах \"name\" и \"genre\", так как это может серьезно исказить данные.\n",
        "\n",
        "В столбце \"year_of_release\" пропуски заменим на годы выхода игры на других платформах."
      ]
    },
    {
      "cell_type": "code",
      "metadata": {
        "id": "sMClX6qqV_Z6"
      },
      "source": [
        "df['year_of_release'] = df['year_of_release'].fillna(df.groupby('name')['year_of_release'].transform('median'))"
      ],
      "execution_count": null,
      "outputs": []
    },
    {
      "cell_type": "markdown",
      "metadata": {
        "id": "k_xSW_AOV_Z6"
      },
      "source": [
        "В столбцах с оценками и рейтингом - на пустые значения, так как не получилось узнать по какой причине появились эти пропуски. Пропуски не зависят от ни от жанра, ни от года выхода, ни от количества продаж."
      ]
    },
    {
      "cell_type": "markdown",
      "metadata": {
        "id": "Y2CjoRj5V_Z7"
      },
      "source": [
        "В столбце \"user_score\" значение \"tbd\" на NaN, так как аббревиатура to be determined означает, что игроки не определились какой рейтинг ставить."
      ]
    },
    {
      "cell_type": "code",
      "metadata": {
        "id": "I3eF2EOdV_Z7"
      },
      "source": [
        "df[\"user_score\"] = np.where(df[\"user_score\"]==\"tbd\", np.nan, df[\"user_score\"])"
      ],
      "execution_count": null,
      "outputs": []
    },
    {
      "cell_type": "markdown",
      "metadata": {
        "id": "kDkpu8wZV_Z7"
      },
      "source": [
        "Добавим новый столбец с суммарными продажами по всем регионам"
      ]
    },
    {
      "cell_type": "code",
      "metadata": {
        "id": "32rFPnxZV_Z7"
      },
      "source": [
        "df['total_sales'] = df[['na_sales','eu_sales','jp_sales','other_sales']].sum(axis=1)"
      ],
      "execution_count": null,
      "outputs": []
    },
    {
      "cell_type": "markdown",
      "metadata": {
        "id": "DgtU_hV9V_Z8"
      },
      "source": [
        "Добавим переменную с уникальными названиями игр и годом их выпуска"
      ]
    },
    {
      "cell_type": "code",
      "metadata": {
        "id": "T_KNMQQ4V_Z8"
      },
      "source": [
        "unique_names = df.groupby('name')['year_of_release'].max()\n",
        "unique_names = unique_names.reset_index()\n",
        "unique_names"
      ],
      "execution_count": null,
      "outputs": []
    },
    {
      "cell_type": "markdown",
      "metadata": {
        "id": "q-3wAhiiV_Z8"
      },
      "source": [
        "Теперь заменим тип в столбце года выхода, пропущенные значения удалим"
      ]
    },
    {
      "cell_type": "code",
      "metadata": {
        "id": "BdXQ0hzIV_Z8"
      },
      "source": [
        "df.dropna(subset = ['year_of_release'], inplace = True)\n",
        "df['year_of_release'] = df['year_of_release'].astype('int')"
      ],
      "execution_count": null,
      "outputs": []
    },
    {
      "cell_type": "code",
      "metadata": {
        "id": "oicZXJ5vV_Z9"
      },
      "source": [
        "df.info()"
      ],
      "execution_count": null,
      "outputs": []
    },
    {
      "cell_type": "markdown",
      "metadata": {
        "id": "DDHq1CPfV_Z9"
      },
      "source": [
        "### Вывод"
      ]
    },
    {
      "cell_type": "markdown",
      "metadata": {
        "id": "_GiwlbePV_Z9"
      },
      "source": [
        "В данном шаге предобработали данные: привели названия столбцов к нижнему регистру, заменили типы некоторых данных, проанализировали пропуски, некоторые заполнили, также добавили столбец с суммарными продажами по всем регионам"
      ]
    },
    {
      "cell_type": "markdown",
      "metadata": {
        "id": "OeuXNkAcV_Z9"
      },
      "source": [
        "## Анализ данных"
      ]
    },
    {
      "cell_type": "code",
      "metadata": {
        "id": "0EORVEcrV_Z9",
        "outputId": "13072c10-dc35-4c60-825b-ef0e7dde9b8e"
      },
      "source": [
        "df.head()"
      ],
      "execution_count": null,
      "outputs": [
        {
          "output_type": "execute_result",
          "data": {
            "text/html": [
              "<div>\n",
              "<style scoped>\n",
              "    .dataframe tbody tr th:only-of-type {\n",
              "        vertical-align: middle;\n",
              "    }\n",
              "\n",
              "    .dataframe tbody tr th {\n",
              "        vertical-align: top;\n",
              "    }\n",
              "\n",
              "    .dataframe thead th {\n",
              "        text-align: right;\n",
              "    }\n",
              "</style>\n",
              "<table border=\"1\" class=\"dataframe\">\n",
              "  <thead>\n",
              "    <tr style=\"text-align: right;\">\n",
              "      <th></th>\n",
              "      <th>name</th>\n",
              "      <th>platform</th>\n",
              "      <th>year_of_release</th>\n",
              "      <th>genre</th>\n",
              "      <th>na_sales</th>\n",
              "      <th>eu_sales</th>\n",
              "      <th>jp_sales</th>\n",
              "      <th>other_sales</th>\n",
              "      <th>critic_score</th>\n",
              "      <th>user_score</th>\n",
              "      <th>rating</th>\n",
              "      <th>total_sales</th>\n",
              "    </tr>\n",
              "  </thead>\n",
              "  <tbody>\n",
              "    <tr>\n",
              "      <td>0</td>\n",
              "      <td>Wii Sports</td>\n",
              "      <td>Wii</td>\n",
              "      <td>2006</td>\n",
              "      <td>Sports</td>\n",
              "      <td>41.36</td>\n",
              "      <td>28.96</td>\n",
              "      <td>3.77</td>\n",
              "      <td>8.45</td>\n",
              "      <td>76.0</td>\n",
              "      <td>8.0</td>\n",
              "      <td>E</td>\n",
              "      <td>82.54</td>\n",
              "    </tr>\n",
              "    <tr>\n",
              "      <td>1</td>\n",
              "      <td>Super Mario Bros.</td>\n",
              "      <td>NES</td>\n",
              "      <td>1985</td>\n",
              "      <td>Platform</td>\n",
              "      <td>29.08</td>\n",
              "      <td>3.58</td>\n",
              "      <td>6.81</td>\n",
              "      <td>0.77</td>\n",
              "      <td>NaN</td>\n",
              "      <td>NaN</td>\n",
              "      <td>NaN</td>\n",
              "      <td>40.24</td>\n",
              "    </tr>\n",
              "    <tr>\n",
              "      <td>2</td>\n",
              "      <td>Mario Kart Wii</td>\n",
              "      <td>Wii</td>\n",
              "      <td>2008</td>\n",
              "      <td>Racing</td>\n",
              "      <td>15.68</td>\n",
              "      <td>12.76</td>\n",
              "      <td>3.79</td>\n",
              "      <td>3.29</td>\n",
              "      <td>82.0</td>\n",
              "      <td>8.3</td>\n",
              "      <td>E</td>\n",
              "      <td>35.52</td>\n",
              "    </tr>\n",
              "    <tr>\n",
              "      <td>3</td>\n",
              "      <td>Wii Sports Resort</td>\n",
              "      <td>Wii</td>\n",
              "      <td>2009</td>\n",
              "      <td>Sports</td>\n",
              "      <td>15.61</td>\n",
              "      <td>10.93</td>\n",
              "      <td>3.28</td>\n",
              "      <td>2.95</td>\n",
              "      <td>80.0</td>\n",
              "      <td>8.0</td>\n",
              "      <td>E</td>\n",
              "      <td>32.77</td>\n",
              "    </tr>\n",
              "    <tr>\n",
              "      <td>4</td>\n",
              "      <td>Pokemon Red/Pokemon Blue</td>\n",
              "      <td>GB</td>\n",
              "      <td>1996</td>\n",
              "      <td>Role-Playing</td>\n",
              "      <td>11.27</td>\n",
              "      <td>8.89</td>\n",
              "      <td>10.22</td>\n",
              "      <td>1.00</td>\n",
              "      <td>NaN</td>\n",
              "      <td>NaN</td>\n",
              "      <td>NaN</td>\n",
              "      <td>31.38</td>\n",
              "    </tr>\n",
              "  </tbody>\n",
              "</table>\n",
              "</div>"
            ],
            "text/plain": [
              "                       name platform  year_of_release         genre  na_sales  \\\n",
              "0                Wii Sports      Wii             2006        Sports     41.36   \n",
              "1         Super Mario Bros.      NES             1985      Platform     29.08   \n",
              "2            Mario Kart Wii      Wii             2008        Racing     15.68   \n",
              "3         Wii Sports Resort      Wii             2009        Sports     15.61   \n",
              "4  Pokemon Red/Pokemon Blue       GB             1996  Role-Playing     11.27   \n",
              "\n",
              "   eu_sales  jp_sales  other_sales  critic_score  user_score rating  \\\n",
              "0     28.96      3.77         8.45          76.0         8.0      E   \n",
              "1      3.58      6.81         0.77           NaN         NaN    NaN   \n",
              "2     12.76      3.79         3.29          82.0         8.3      E   \n",
              "3     10.93      3.28         2.95          80.0         8.0      E   \n",
              "4      8.89     10.22         1.00           NaN         NaN    NaN   \n",
              "\n",
              "   total_sales  \n",
              "0        82.54  \n",
              "1        40.24  \n",
              "2        35.52  \n",
              "3        32.77  \n",
              "4        31.38  "
            ]
          },
          "metadata": {
            "tags": []
          },
          "execution_count": 21
        }
      ]
    },
    {
      "cell_type": "markdown",
      "metadata": {
        "id": "JU6Ygyj7V_Z-"
      },
      "source": [
        "Посмотрим сколько игр выпускалось в разные годы"
      ]
    },
    {
      "cell_type": "code",
      "metadata": {
        "id": "HFEUFIJ_V_Z-",
        "outputId": "995ec745-bfed-4651-aaa3-469dabb7cd2e"
      },
      "source": [
        "df.groupby('year_of_release')['name'].count()"
      ],
      "execution_count": null,
      "outputs": [
        {
          "output_type": "execute_result",
          "data": {
            "text/plain": [
              "year_of_release\n",
              "1980       9\n",
              "1981      46\n",
              "1982      36\n",
              "1983      17\n",
              "1984      14\n",
              "1985      14\n",
              "1986      21\n",
              "1987      16\n",
              "1988      15\n",
              "1989      17\n",
              "1990      16\n",
              "1991      41\n",
              "1992      43\n",
              "1993      60\n",
              "1994     121\n",
              "1995     219\n",
              "1996     263\n",
              "1997     289\n",
              "1998     379\n",
              "1999     340\n",
              "2000     351\n",
              "2001     486\n",
              "2002     844\n",
              "2003     784\n",
              "2004     765\n",
              "2005     948\n",
              "2006    1019\n",
              "2007    1202\n",
              "2008    1441\n",
              "2009    1430\n",
              "2010    1269\n",
              "2011    1153\n",
              "2012     662\n",
              "2013     548\n",
              "2014     581\n",
              "2015     606\n",
              "2016     502\n",
              "Name: name, dtype: int64"
            ]
          },
          "metadata": {
            "tags": []
          },
          "execution_count": 22
        }
      ]
    },
    {
      "cell_type": "code",
      "metadata": {
        "id": "qG-b1utqV_Z-",
        "outputId": "20674777-534e-40a4-98b8-04cea07a4313"
      },
      "source": [
        "len(df['name'].unique())"
      ],
      "execution_count": null,
      "outputs": [
        {
          "output_type": "execute_result",
          "data": {
            "text/plain": [
              "11427"
            ]
          },
          "metadata": {
            "tags": []
          },
          "execution_count": 23
        }
      ]
    },
    {
      "cell_type": "markdown",
      "metadata": {
        "id": "VqO3g5fpV_Z-"
      },
      "source": [
        "Видно, что до 1994 года игры выпускалось менее 100, а значит данные по этим годам не так важны. Также после 2011 года выпуск новых игр начал уменьшаться. Однако, нужно помнить, что в сгруппированном виде присутствует 16446 названий игр, однако уникальных в них всего - 11560, значит разница между этими цифрами - это повторяющиеся игры для разных платформ. Теперь сгруппируем по годам уникальные названия игр"
      ]
    },
    {
      "cell_type": "code",
      "metadata": {
        "id": "r_PVNWGaV_Z_"
      },
      "source": [
        "unique_names.groupby('year_of_release')['name'].count()"
      ],
      "execution_count": null,
      "outputs": []
    },
    {
      "cell_type": "markdown",
      "metadata": {
        "id": "dZugfZ-3V_Z_"
      },
      "source": [
        "В целом ничего не изменилось - данные по годам меньше 1994 не так важны"
      ]
    },
    {
      "cell_type": "markdown",
      "metadata": {
        "id": "RzV_lfWaV_aA"
      },
      "source": [
        "Посмотрим платформы с наибольшими суммарными продажами"
      ]
    },
    {
      "cell_type": "code",
      "metadata": {
        "id": "hzXHbIrJV_aA"
      },
      "source": [
        "top_5_total_sales = df.groupby('platform')['total_sales'].sum().sort_values(ascending = False).head()\n",
        "top_5_total_sales"
      ],
      "execution_count": null,
      "outputs": []
    },
    {
      "cell_type": "markdown",
      "metadata": {
        "id": "1p6W0JaYV_aA"
      },
      "source": [
        "Выделим из общей таблицы платформы с топ-5 по продажам и создадим переменную из них"
      ]
    },
    {
      "cell_type": "code",
      "metadata": {
        "id": "0cj47HB1V_aA"
      },
      "source": [
        "only_top_5 = df.query('platform in @top_5_total_sales.index')\n",
        "only_top_5"
      ],
      "execution_count": null,
      "outputs": []
    },
    {
      "cell_type": "markdown",
      "metadata": {
        "id": "-nJDPRyVV_aA"
      },
      "source": [
        "Создадим сводную таблицу, показывающую распределние суммарных продаж по годам для топ-5 платформ, и посмотрим на основании ее график."
      ]
    },
    {
      "cell_type": "code",
      "metadata": {
        "id": "6HhG6tXnV_aA",
        "outputId": "ff278c35-2f65-4952-d8de-c84a8c757f73"
      },
      "source": [
        "pd.pivot_table(data=only_top_5, values=\"total_sales\",columns=\"platform\",index=\"year_of_release\", aggfunc = 'sum').plot()"
      ],
      "execution_count": null,
      "outputs": [
        {
          "output_type": "execute_result",
          "data": {
            "text/plain": [
              "<matplotlib.axes._subplots.AxesSubplot at 0x7f3b1a8aeb90>"
            ]
          },
          "metadata": {
            "tags": []
          },
          "execution_count": 27
        },
        {
          "output_type": "display_data",
          "data": {
            "image/png": "[encoded data removed]",
            "text/plain": [
              "<Figure size 432x288 with 1 Axes>"
            ]
          },
          "metadata": {
            "tags": [],
            "needs_background": "light"
          }
        }
      ]
    },
    {
      "cell_type": "markdown",
      "metadata": {
        "id": "_mtrBJe-V_aB"
      },
      "source": [
        "На графике видно, что средняя продолжительность жизни платфрмы - 10 лет, с пиком продаж на середине жизненного цикла."
      ]
    },
    {
      "cell_type": "markdown",
      "metadata": {
        "id": "kaptL9AnV_aB"
      },
      "source": [
        "Выберем потенциально прибыльные платформы. Критерием отбора будет год выпуска игр - больше 2013 года, так как те игры, которые выпускались раньше - выпускались на старые платформы, пик популярности которых уже прошел"
      ]
    },
    {
      "cell_type": "code",
      "metadata": {
        "id": "drpNr4cyV_aC",
        "outputId": "319f1308-950d-4335-a6d0-416fc7cac1c2"
      },
      "source": [
        "df_potential_over = df[(df['year_of_release'] > 2013)]\n",
        "df_potential_over['platform'].unique()\n",
        "df_potential_over\n",
        "df_potential_over.groupby('platform').count()"
      ],
      "execution_count": null,
      "outputs": [
        {
          "output_type": "execute_result",
          "data": {
            "text/html": [
              "<div>\n",
              "<style scoped>\n",
              "    .dataframe tbody tr th:only-of-type {\n",
              "        vertical-align: middle;\n",
              "    }\n",
              "\n",
              "    .dataframe tbody tr th {\n",
              "        vertical-align: top;\n",
              "    }\n",
              "\n",
              "    .dataframe thead th {\n",
              "        text-align: right;\n",
              "    }\n",
              "</style>\n",
              "<table border=\"1\" class=\"dataframe\">\n",
              "  <thead>\n",
              "    <tr style=\"text-align: right;\">\n",
              "      <th></th>\n",
              "      <th>name</th>\n",
              "      <th>year_of_release</th>\n",
              "      <th>genre</th>\n",
              "      <th>na_sales</th>\n",
              "      <th>eu_sales</th>\n",
              "      <th>jp_sales</th>\n",
              "      <th>other_sales</th>\n",
              "      <th>critic_score</th>\n",
              "      <th>user_score</th>\n",
              "      <th>rating</th>\n",
              "      <th>total_sales</th>\n",
              "    </tr>\n",
              "    <tr>\n",
              "      <th>platform</th>\n",
              "      <th></th>\n",
              "      <th></th>\n",
              "      <th></th>\n",
              "      <th></th>\n",
              "      <th></th>\n",
              "      <th></th>\n",
              "      <th></th>\n",
              "      <th></th>\n",
              "      <th></th>\n",
              "      <th></th>\n",
              "      <th></th>\n",
              "    </tr>\n",
              "  </thead>\n",
              "  <tbody>\n",
              "    <tr>\n",
              "      <td>3DS</td>\n",
              "      <td>212</td>\n",
              "      <td>212</td>\n",
              "      <td>212</td>\n",
              "      <td>212</td>\n",
              "      <td>212</td>\n",
              "      <td>212</td>\n",
              "      <td>212</td>\n",
              "      <td>51</td>\n",
              "      <td>55</td>\n",
              "      <td>74</td>\n",
              "      <td>212</td>\n",
              "    </tr>\n",
              "    <tr>\n",
              "      <td>PC</td>\n",
              "      <td>151</td>\n",
              "      <td>151</td>\n",
              "      <td>151</td>\n",
              "      <td>151</td>\n",
              "      <td>151</td>\n",
              "      <td>151</td>\n",
              "      <td>151</td>\n",
              "      <td>116</td>\n",
              "      <td>122</td>\n",
              "      <td>110</td>\n",
              "      <td>151</td>\n",
              "    </tr>\n",
              "    <tr>\n",
              "      <td>PS3</td>\n",
              "      <td>219</td>\n",
              "      <td>219</td>\n",
              "      <td>219</td>\n",
              "      <td>219</td>\n",
              "      <td>219</td>\n",
              "      <td>219</td>\n",
              "      <td>219</td>\n",
              "      <td>36</td>\n",
              "      <td>98</td>\n",
              "      <td>113</td>\n",
              "      <td>219</td>\n",
              "    </tr>\n",
              "    <tr>\n",
              "      <td>PS4</td>\n",
              "      <td>376</td>\n",
              "      <td>376</td>\n",
              "      <td>376</td>\n",
              "      <td>376</td>\n",
              "      <td>376</td>\n",
              "      <td>376</td>\n",
              "      <td>376</td>\n",
              "      <td>237</td>\n",
              "      <td>242</td>\n",
              "      <td>240</td>\n",
              "      <td>376</td>\n",
              "    </tr>\n",
              "    <tr>\n",
              "      <td>PSP</td>\n",
              "      <td>13</td>\n",
              "      <td>13</td>\n",
              "      <td>13</td>\n",
              "      <td>13</td>\n",
              "      <td>13</td>\n",
              "      <td>13</td>\n",
              "      <td>13</td>\n",
              "      <td>0</td>\n",
              "      <td>0</td>\n",
              "      <td>0</td>\n",
              "      <td>13</td>\n",
              "    </tr>\n",
              "    <tr>\n",
              "      <td>PSV</td>\n",
              "      <td>295</td>\n",
              "      <td>295</td>\n",
              "      <td>295</td>\n",
              "      <td>295</td>\n",
              "      <td>295</td>\n",
              "      <td>295</td>\n",
              "      <td>295</td>\n",
              "      <td>54</td>\n",
              "      <td>73</td>\n",
              "      <td>81</td>\n",
              "      <td>295</td>\n",
              "    </tr>\n",
              "    <tr>\n",
              "      <td>Wii</td>\n",
              "      <td>11</td>\n",
              "      <td>11</td>\n",
              "      <td>11</td>\n",
              "      <td>11</td>\n",
              "      <td>11</td>\n",
              "      <td>11</td>\n",
              "      <td>11</td>\n",
              "      <td>0</td>\n",
              "      <td>2</td>\n",
              "      <td>9</td>\n",
              "      <td>11</td>\n",
              "    </tr>\n",
              "    <tr>\n",
              "      <td>WiiU</td>\n",
              "      <td>73</td>\n",
              "      <td>73</td>\n",
              "      <td>73</td>\n",
              "      <td>73</td>\n",
              "      <td>73</td>\n",
              "      <td>73</td>\n",
              "      <td>73</td>\n",
              "      <td>43</td>\n",
              "      <td>48</td>\n",
              "      <td>53</td>\n",
              "      <td>73</td>\n",
              "    </tr>\n",
              "    <tr>\n",
              "      <td>X360</td>\n",
              "      <td>111</td>\n",
              "      <td>111</td>\n",
              "      <td>111</td>\n",
              "      <td>111</td>\n",
              "      <td>111</td>\n",
              "      <td>111</td>\n",
              "      <td>111</td>\n",
              "      <td>26</td>\n",
              "      <td>83</td>\n",
              "      <td>91</td>\n",
              "      <td>111</td>\n",
              "    </tr>\n",
              "    <tr>\n",
              "      <td>XOne</td>\n",
              "      <td>228</td>\n",
              "      <td>228</td>\n",
              "      <td>228</td>\n",
              "      <td>228</td>\n",
              "      <td>228</td>\n",
              "      <td>228</td>\n",
              "      <td>228</td>\n",
              "      <td>155</td>\n",
              "      <td>165</td>\n",
              "      <td>169</td>\n",
              "      <td>228</td>\n",
              "    </tr>\n",
              "  </tbody>\n",
              "</table>\n",
              "</div>"
            ],
            "text/plain": [
              "          name  year_of_release  genre  na_sales  eu_sales  jp_sales  \\\n",
              "platform                                                               \n",
              "3DS        212              212    212       212       212       212   \n",
              "PC         151              151    151       151       151       151   \n",
              "PS3        219              219    219       219       219       219   \n",
              "PS4        376              376    376       376       376       376   \n",
              "PSP         13               13     13        13        13        13   \n",
              "PSV        295              295    295       295       295       295   \n",
              "Wii         11               11     11        11        11        11   \n",
              "WiiU        73               73     73        73        73        73   \n",
              "X360       111              111    111       111       111       111   \n",
              "XOne       228              228    228       228       228       228   \n",
              "\n",
              "          other_sales  critic_score  user_score  rating  total_sales  \n",
              "platform                                                              \n",
              "3DS               212            51          55      74          212  \n",
              "PC                151           116         122     110          151  \n",
              "PS3               219            36          98     113          219  \n",
              "PS4               376           237         242     240          376  \n",
              "PSP                13             0           0       0           13  \n",
              "PSV               295            54          73      81          295  \n",
              "Wii                11             0           2       9           11  \n",
              "WiiU               73            43          48      53           73  \n",
              "X360              111            26          83      91          111  \n",
              "XOne              228           155         165     169          228  "
            ]
          },
          "metadata": {
            "tags": []
          },
          "execution_count": 28
        }
      ]
    },
    {
      "cell_type": "markdown",
      "metadata": {
        "id": "H7SFBkwkV_aD"
      },
      "source": [
        "Под данные критерии попадают 10 платформ, но если посмотреть количество выпускаемых для них игр и учесть, что скоро жизненный цикл некоторых платформ закончится, то можно выделить всего 3 - PS4, 3DS, XOne"
      ]
    },
    {
      "cell_type": "markdown",
      "metadata": {
        "id": "IAOBDhl5V_aD"
      },
      "source": [
        "Объединим данные по потенциальным платформам в новой переменной и построим ящики с усами"
      ]
    },
    {
      "cell_type": "code",
      "metadata": {
        "id": "TwhBnCbKV_aD"
      },
      "source": [
        "df_potential = df_potential_over[df_potential_over['platform'].isin(['PS4','3DS','XOne'])]\n",
        "df_potential = df_potential.reset_index()"
      ],
      "execution_count": null,
      "outputs": []
    },
    {
      "cell_type": "code",
      "metadata": {
        "id": "4rQZf6uuV_aD",
        "outputId": "a3047893-f1db-48d0-94ce-de921a7eb622"
      },
      "source": [
        "plt.figure(figsize=(13,10), dpi= 80)\n",
        "plt.ylim(0, 2)\n",
        "sns.boxplot(x='platform', y='total_sales', data=df_potential)"
      ],
      "execution_count": null,
      "outputs": [
        {
          "output_type": "execute_result",
          "data": {
            "text/plain": [
              "<matplotlib.axes._subplots.AxesSubplot at 0x7f3b120feb10>"
            ]
          },
          "metadata": {
            "tags": []
          },
          "execution_count": 30
        },
        {
          "output_type": "display_data",
          "data": {
            "image/png": "[encoded data removed]",
            "text/plain": [
              "<Figure size 1040x800 with 1 Axes>"
            ]
          },
          "metadata": {
            "tags": [],
            "needs_background": "light"
          }
        }
      ]
    },
    {
      "cell_type": "markdown",
      "metadata": {
        "id": "f7ISpCOSV_aD"
      },
      "source": [
        "Исходя из построенных боксплотов можно утверждать, что в среднем игры продаются практически одинаковыми тиражами для PS4 и XOne. А игры для 3DS продаются значительно меньшим числом."
      ]
    },
    {
      "cell_type": "markdown",
      "metadata": {
        "id": "V5MGBsDAV_aE"
      },
      "source": [
        "Построим диаграммы рессеяния и посчитаем корреляцию между продажами и отзывами пользоватлей и критиков для XOne"
      ]
    },
    {
      "cell_type": "code",
      "metadata": {
        "id": "bsoz89a3V_aE"
      },
      "source": [
        "df_xone = df_potential[df_potential['platform'] == 'XOne']\n",
        "df_xone"
      ],
      "execution_count": null,
      "outputs": []
    },
    {
      "cell_type": "code",
      "metadata": {
        "id": "yT6_NLVmV_aE",
        "outputId": "5e37d5a5-003c-4f2e-9491-df005891c10b"
      },
      "source": [
        "df_xone.plot(x='critic_score', y='total_sales', kind='scatter')\n",
        "plt.title('Зависимость оценок критиков и продаж игр для XOne')"
      ],
      "execution_count": null,
      "outputs": [
        {
          "output_type": "execute_result",
          "data": {
            "text/plain": [
              "Text(0.5, 1.0, 'Зависимость оценок критиков и продаж игр для XOne')"
            ]
          },
          "metadata": {
            "tags": []
          },
          "execution_count": 32
        },
        {
          "output_type": "display_data",
          "data": {
            "image/png": "[encoded data removed]",
            "text/plain": [
              "<Figure size 432x288 with 1 Axes>"
            ]
          },
          "metadata": {
            "tags": [],
            "needs_background": "light"
          }
        }
      ]
    },
    {
      "cell_type": "code",
      "metadata": {
        "id": "M3MAd0MoV_aF",
        "outputId": "bf9ec639-9881-4c0b-b46c-e8ed908d8fd9"
      },
      "source": [
        "df_xone['total_sales'].corr(df_xone['critic_score'])"
      ],
      "execution_count": null,
      "outputs": [
        {
          "output_type": "execute_result",
          "data": {
            "text/plain": [
              "0.42867694370333226"
            ]
          },
          "metadata": {
            "tags": []
          },
          "execution_count": 33
        }
      ]
    },
    {
      "cell_type": "code",
      "metadata": {
        "id": "6m2q7MUlV_aF",
        "outputId": "5be890a0-a083-4ea3-cdd6-2fc4ca36afa3"
      },
      "source": [
        "df_xone.plot(x='user_score', y='total_sales', kind='scatter')\n",
        "plt.title('Зависимость оценок игроков и продаж игр для XOne')"
      ],
      "execution_count": null,
      "outputs": [
        {
          "output_type": "execute_result",
          "data": {
            "text/plain": [
              "Text(0.5, 1.0, 'Зависимость оценок игроков и продаж игр для XOne')"
            ]
          },
          "metadata": {
            "tags": []
          },
          "execution_count": 34
        },
        {
          "output_type": "display_data",
          "data": {
            "image/png": "[encoded data removed]",
            "text/plain": [
              "<Figure size 432x288 with 1 Axes>"
            ]
          },
          "metadata": {
            "tags": [],
            "needs_background": "light"
          }
        }
      ]
    },
    {
      "cell_type": "code",
      "metadata": {
        "scrolled": true,
        "id": "t0ttrxjjV_aF",
        "outputId": "778d6f5e-aa51-4011-fd07-1f9d308f9450"
      },
      "source": [
        "df_xone['total_sales'].corr(df_xone['user_score'])"
      ],
      "execution_count": null,
      "outputs": [
        {
          "output_type": "execute_result",
          "data": {
            "text/plain": [
              "-0.0703839280647581"
            ]
          },
          "metadata": {
            "tags": []
          },
          "execution_count": 35
        }
      ]
    },
    {
      "cell_type": "markdown",
      "metadata": {
        "id": "DVbpnKGFV_aF"
      },
      "source": [
        "Можно утверждать, что оценки критиков влияют на продажи игр, но не сильно. А вот оценки игроков практически не влияют на продажи"
      ]
    },
    {
      "cell_type": "markdown",
      "metadata": {
        "id": "V6eFu0YBV_aG"
      },
      "source": [
        "Соотнесем выводы с продажами игр на других платформах"
      ]
    },
    {
      "cell_type": "markdown",
      "metadata": {
        "id": "qoNj8XgaV_aG"
      },
      "source": [
        "PS4:"
      ]
    },
    {
      "cell_type": "code",
      "metadata": {
        "id": "AbgHomQtV_aG"
      },
      "source": [
        "df_ps4 = df_potential[df_potential['platform'] == 'PS4']\n",
        "df_ps4"
      ],
      "execution_count": null,
      "outputs": []
    },
    {
      "cell_type": "code",
      "metadata": {
        "id": "Fp-IlBORV_aG",
        "outputId": "38953c52-be9f-4650-8ffe-61ef08228cfd"
      },
      "source": [
        "df_ps4.plot(x='critic_score', y='total_sales', kind='scatter')\n",
        "plt.title('Зависимость оценок критиков и продаж игр для PS4')"
      ],
      "execution_count": null,
      "outputs": [
        {
          "output_type": "execute_result",
          "data": {
            "text/plain": [
              "Text(0.5, 1.0, 'Зависимость оценок критиков и продаж игр для PS4')"
            ]
          },
          "metadata": {
            "tags": []
          },
          "execution_count": 37
        },
        {
          "output_type": "display_data",
          "data": {
            "image/png": "[encoded data removed]",
            "text/plain": [
              "<Figure size 432x288 with 1 Axes>"
            ]
          },
          "metadata": {
            "tags": [],
            "needs_background": "light"
          }
        }
      ]
    },
    {
      "cell_type": "code",
      "metadata": {
        "id": "BQgpj5-zV_aH",
        "outputId": "5ed5c026-61bd-4c65-e320-039841c15ff2"
      },
      "source": [
        "df_ps4['total_sales'].corr(df_ps4['critic_score'])"
      ],
      "execution_count": null,
      "outputs": [
        {
          "output_type": "execute_result",
          "data": {
            "text/plain": [
              "0.40266141068104083"
            ]
          },
          "metadata": {
            "tags": []
          },
          "execution_count": 38
        }
      ]
    },
    {
      "cell_type": "code",
      "metadata": {
        "id": "lSvEJHIKV_aH",
        "outputId": "3d484408-d297-457f-ddfa-dfddc2e473fc"
      },
      "source": [
        "df_ps4.plot(x='user_score', y='total_sales', kind='scatter')\n",
        "plt.title('Зависимость оценок игроков и продаж игр для PS4')"
      ],
      "execution_count": null,
      "outputs": [
        {
          "output_type": "execute_result",
          "data": {
            "text/plain": [
              "Text(0.5, 1.0, 'Зависимость оценок игроков и продаж игр для PS4')"
            ]
          },
          "metadata": {
            "tags": []
          },
          "execution_count": 39
        },
        {
          "output_type": "display_data",
          "data": {
            "image/png": "[encoded data removed]",
            "text/plain": [
              "<Figure size 432x288 with 1 Axes>"
            ]
          },
          "metadata": {
            "tags": [],
            "needs_background": "light"
          }
        }
      ]
    },
    {
      "cell_type": "code",
      "metadata": {
        "scrolled": false,
        "id": "vYz5GlU3V_aH",
        "outputId": "90534b8d-c6ab-4ff2-f68a-ce2c21914fac"
      },
      "source": [
        "df_ps4['total_sales'].corr(df_ps4['user_score'])"
      ],
      "execution_count": null,
      "outputs": [
        {
          "output_type": "execute_result",
          "data": {
            "text/plain": [
              "-0.040131589472697356"
            ]
          },
          "metadata": {
            "tags": []
          },
          "execution_count": 40
        }
      ]
    },
    {
      "cell_type": "markdown",
      "metadata": {
        "id": "jXgn8Y7fV_aH"
      },
      "source": [
        "3DS:"
      ]
    },
    {
      "cell_type": "code",
      "metadata": {
        "id": "M7Mjnai0V_aI"
      },
      "source": [
        "df_3ds = df_potential[df_potential['platform'] == '3DS']\n",
        "df_3ds"
      ],
      "execution_count": null,
      "outputs": []
    },
    {
      "cell_type": "code",
      "metadata": {
        "id": "BqJtGjgQV_aI",
        "outputId": "54eb4bad-875e-4368-d870-c2ef44691001"
      },
      "source": [
        "df_3ds.plot(x='critic_score', y='total_sales', kind='scatter')\n",
        "plt.title('Зависимость оценок критиков и продаж игр для 3DS')"
      ],
      "execution_count": null,
      "outputs": [
        {
          "output_type": "execute_result",
          "data": {
            "text/plain": [
              "Text(0.5, 1.0, 'Зависимость оценок критиков и продаж игр для 3DS')"
            ]
          },
          "metadata": {
            "tags": []
          },
          "execution_count": 42
        },
        {
          "output_type": "display_data",
          "data": {
            "image/png": "[encoded data removed]",
            "text/plain": [
              "<Figure size 432x288 with 1 Axes>"
            ]
          },
          "metadata": {
            "tags": [],
            "needs_background": "light"
          }
        }
      ]
    },
    {
      "cell_type": "code",
      "metadata": {
        "id": "Ji--dKnnV_aI",
        "outputId": "b22915dc-14d6-4528-9811-fe0c504fd95a"
      },
      "source": [
        "df_3ds['total_sales'].corr(df_3ds['critic_score'])"
      ],
      "execution_count": null,
      "outputs": [
        {
          "output_type": "execute_result",
          "data": {
            "text/plain": [
              "0.31411749286905105"
            ]
          },
          "metadata": {
            "tags": []
          },
          "execution_count": 43
        }
      ]
    },
    {
      "cell_type": "code",
      "metadata": {
        "id": "aXJjksPfV_aI",
        "outputId": "784ae567-ca2a-4a48-b761-a187eef3b3eb"
      },
      "source": [
        "df_3ds.plot(x='user_score', y='total_sales', kind='scatter')\n",
        "plt.title('Зависимость оценок игроков и продаж игр для 3DS')"
      ],
      "execution_count": null,
      "outputs": [
        {
          "output_type": "execute_result",
          "data": {
            "text/plain": [
              "Text(0.5, 1.0, 'Зависимость оценок игроков и продаж игр для 3DS')"
            ]
          },
          "metadata": {
            "tags": []
          },
          "execution_count": 44
        },
        {
          "output_type": "display_data",
          "data": {
            "image/png": "[encoded data removed]",
            "text/plain": [
              "<Figure size 432x288 with 1 Axes>"
            ]
          },
          "metadata": {
            "tags": [],
            "needs_background": "light"
          }
        }
      ]
    },
    {
      "cell_type": "code",
      "metadata": {
        "scrolled": false,
        "id": "INbIE3VKV_aJ",
        "outputId": "061cba52-5b3a-4593-98c7-cdef9ce02884"
      },
      "source": [
        "df_3ds['total_sales'].corr(df_3ds['user_score'])"
      ],
      "execution_count": null,
      "outputs": [
        {
          "output_type": "execute_result",
          "data": {
            "text/plain": [
              "0.2151932718527028"
            ]
          },
          "metadata": {
            "tags": []
          },
          "execution_count": 45
        }
      ]
    },
    {
      "cell_type": "markdown",
      "metadata": {
        "id": "7xEkDpS2V_aJ"
      },
      "source": [
        "Корреляция между продажами игр и отзывами критиков сохраняется для всех потенциально прибыльных платформ. Корреляция между продажами игр и отзывами пользователей для PS4 и XOne практически одинаковы, а вот для 3DS отличается от них."
      ]
    },
    {
      "cell_type": "markdown",
      "metadata": {
        "id": "qMdNqVK_V_aJ"
      },
      "source": [
        "Посмотрим на общее распределение игр по жанрам. Выделим жанры с высокими и низкими продажами"
      ]
    },
    {
      "cell_type": "code",
      "metadata": {
        "id": "Gc6yc_jwV_aJ"
      },
      "source": [
        "top_genres = df_potential.groupby('genre')['total_sales'].sum().sort_values(ascending = False)"
      ],
      "execution_count": null,
      "outputs": []
    },
    {
      "cell_type": "code",
      "metadata": {
        "id": "tOMN4jp1V_aK",
        "outputId": "99bf02c6-b670-43a7-fd5e-c2dd91706bda"
      },
      "source": [
        "top_genres"
      ],
      "execution_count": null,
      "outputs": [
        {
          "output_type": "execute_result",
          "data": {
            "text/plain": [
              "genre\n",
              "Action          144.74\n",
              "Shooter         133.85\n",
              "Role-Playing     79.56\n",
              "Sports           75.01\n",
              "Misc             18.36\n",
              "Fighting         18.00\n",
              "Racing           17.05\n",
              "Adventure        10.59\n",
              "Platform         10.02\n",
              "Simulation        5.69\n",
              "Strategy          1.43\n",
              "Puzzle            0.89\n",
              "Name: total_sales, dtype: float64"
            ]
          },
          "metadata": {
            "tags": []
          },
          "execution_count": 47
        }
      ]
    },
    {
      "cell_type": "markdown",
      "metadata": {
        "id": "8x2ORaUwV_aK"
      },
      "source": [
        "Посмотрим боксплот прожаж по жанрам, количество проланных игр в каждом жанре и медианные продажи в жанре"
      ]
    },
    {
      "cell_type": "code",
      "metadata": {
        "id": "MlzdziVbV_aK",
        "outputId": "4b95848a-dc4f-4482-f6fe-9d73ea64e8d2"
      },
      "source": [
        "plt.figure(figsize=(13,10), dpi= 80)\n",
        "sns.boxplot(x='genre', y='total_sales', data=df_potential)"
      ],
      "execution_count": null,
      "outputs": [
        {
          "output_type": "execute_result",
          "data": {
            "text/plain": [
              "<matplotlib.axes._subplots.AxesSubplot at 0x7f3b11dc5e10>"
            ]
          },
          "metadata": {
            "tags": []
          },
          "execution_count": 48
        },
        {
          "output_type": "display_data",
          "data": {
            "image/png": "[encoded data removed]",
            "text/plain": [
              "<Figure size 1040x800 with 1 Axes>"
            ]
          },
          "metadata": {
            "tags": [],
            "needs_background": "light"
          }
        }
      ]
    },
    {
      "cell_type": "code",
      "metadata": {
        "id": "Tka33O9QV_aL",
        "outputId": "d1898fb7-7ed9-44a6-b903-f2a8c4fe6587"
      },
      "source": [
        "df_potential.groupby('genre').count()"
      ],
      "execution_count": null,
      "outputs": [
        {
          "output_type": "execute_result",
          "data": {
            "text/html": [
              "<div>\n",
              "<style scoped>\n",
              "    .dataframe tbody tr th:only-of-type {\n",
              "        vertical-align: middle;\n",
              "    }\n",
              "\n",
              "    .dataframe tbody tr th {\n",
              "        vertical-align: top;\n",
              "    }\n",
              "\n",
              "    .dataframe thead th {\n",
              "        text-align: right;\n",
              "    }\n",
              "</style>\n",
              "<table border=\"1\" class=\"dataframe\">\n",
              "  <thead>\n",
              "    <tr style=\"text-align: right;\">\n",
              "      <th></th>\n",
              "      <th>index</th>\n",
              "      <th>name</th>\n",
              "      <th>platform</th>\n",
              "      <th>year_of_release</th>\n",
              "      <th>na_sales</th>\n",
              "      <th>eu_sales</th>\n",
              "      <th>jp_sales</th>\n",
              "      <th>other_sales</th>\n",
              "      <th>critic_score</th>\n",
              "      <th>user_score</th>\n",
              "      <th>rating</th>\n",
              "      <th>total_sales</th>\n",
              "    </tr>\n",
              "    <tr>\n",
              "      <th>genre</th>\n",
              "      <th></th>\n",
              "      <th></th>\n",
              "      <th></th>\n",
              "      <th></th>\n",
              "      <th></th>\n",
              "      <th></th>\n",
              "      <th></th>\n",
              "      <th></th>\n",
              "      <th></th>\n",
              "      <th></th>\n",
              "      <th></th>\n",
              "      <th></th>\n",
              "    </tr>\n",
              "  </thead>\n",
              "  <tbody>\n",
              "    <tr>\n",
              "      <td>Action</td>\n",
              "      <td>310</td>\n",
              "      <td>310</td>\n",
              "      <td>310</td>\n",
              "      <td>310</td>\n",
              "      <td>310</td>\n",
              "      <td>310</td>\n",
              "      <td>310</td>\n",
              "      <td>310</td>\n",
              "      <td>150</td>\n",
              "      <td>164</td>\n",
              "      <td>172</td>\n",
              "      <td>310</td>\n",
              "    </tr>\n",
              "    <tr>\n",
              "      <td>Adventure</td>\n",
              "      <td>63</td>\n",
              "      <td>63</td>\n",
              "      <td>63</td>\n",
              "      <td>63</td>\n",
              "      <td>63</td>\n",
              "      <td>63</td>\n",
              "      <td>63</td>\n",
              "      <td>63</td>\n",
              "      <td>22</td>\n",
              "      <td>25</td>\n",
              "      <td>27</td>\n",
              "      <td>63</td>\n",
              "    </tr>\n",
              "    <tr>\n",
              "      <td>Fighting</td>\n",
              "      <td>27</td>\n",
              "      <td>27</td>\n",
              "      <td>27</td>\n",
              "      <td>27</td>\n",
              "      <td>27</td>\n",
              "      <td>27</td>\n",
              "      <td>27</td>\n",
              "      <td>27</td>\n",
              "      <td>16</td>\n",
              "      <td>16</td>\n",
              "      <td>16</td>\n",
              "      <td>27</td>\n",
              "    </tr>\n",
              "    <tr>\n",
              "      <td>Misc</td>\n",
              "      <td>56</td>\n",
              "      <td>56</td>\n",
              "      <td>56</td>\n",
              "      <td>56</td>\n",
              "      <td>56</td>\n",
              "      <td>56</td>\n",
              "      <td>56</td>\n",
              "      <td>56</td>\n",
              "      <td>22</td>\n",
              "      <td>22</td>\n",
              "      <td>28</td>\n",
              "      <td>56</td>\n",
              "    </tr>\n",
              "    <tr>\n",
              "      <td>Platform</td>\n",
              "      <td>21</td>\n",
              "      <td>21</td>\n",
              "      <td>21</td>\n",
              "      <td>21</td>\n",
              "      <td>21</td>\n",
              "      <td>21</td>\n",
              "      <td>21</td>\n",
              "      <td>21</td>\n",
              "      <td>17</td>\n",
              "      <td>17</td>\n",
              "      <td>18</td>\n",
              "      <td>21</td>\n",
              "    </tr>\n",
              "    <tr>\n",
              "      <td>Puzzle</td>\n",
              "      <td>8</td>\n",
              "      <td>8</td>\n",
              "      <td>8</td>\n",
              "      <td>8</td>\n",
              "      <td>8</td>\n",
              "      <td>8</td>\n",
              "      <td>8</td>\n",
              "      <td>8</td>\n",
              "      <td>2</td>\n",
              "      <td>2</td>\n",
              "      <td>4</td>\n",
              "      <td>8</td>\n",
              "    </tr>\n",
              "    <tr>\n",
              "      <td>Racing</td>\n",
              "      <td>36</td>\n",
              "      <td>36</td>\n",
              "      <td>36</td>\n",
              "      <td>36</td>\n",
              "      <td>36</td>\n",
              "      <td>36</td>\n",
              "      <td>36</td>\n",
              "      <td>36</td>\n",
              "      <td>28</td>\n",
              "      <td>28</td>\n",
              "      <td>28</td>\n",
              "      <td>36</td>\n",
              "    </tr>\n",
              "    <tr>\n",
              "      <td>Role-Playing</td>\n",
              "      <td>106</td>\n",
              "      <td>106</td>\n",
              "      <td>106</td>\n",
              "      <td>106</td>\n",
              "      <td>106</td>\n",
              "      <td>106</td>\n",
              "      <td>106</td>\n",
              "      <td>106</td>\n",
              "      <td>45</td>\n",
              "      <td>45</td>\n",
              "      <td>46</td>\n",
              "      <td>106</td>\n",
              "    </tr>\n",
              "    <tr>\n",
              "      <td>Shooter</td>\n",
              "      <td>74</td>\n",
              "      <td>74</td>\n",
              "      <td>74</td>\n",
              "      <td>74</td>\n",
              "      <td>74</td>\n",
              "      <td>74</td>\n",
              "      <td>74</td>\n",
              "      <td>74</td>\n",
              "      <td>62</td>\n",
              "      <td>61</td>\n",
              "      <td>62</td>\n",
              "      <td>74</td>\n",
              "    </tr>\n",
              "    <tr>\n",
              "      <td>Simulation</td>\n",
              "      <td>19</td>\n",
              "      <td>19</td>\n",
              "      <td>19</td>\n",
              "      <td>19</td>\n",
              "      <td>19</td>\n",
              "      <td>19</td>\n",
              "      <td>19</td>\n",
              "      <td>19</td>\n",
              "      <td>8</td>\n",
              "      <td>7</td>\n",
              "      <td>9</td>\n",
              "      <td>19</td>\n",
              "    </tr>\n",
              "    <tr>\n",
              "      <td>Sports</td>\n",
              "      <td>81</td>\n",
              "      <td>81</td>\n",
              "      <td>81</td>\n",
              "      <td>81</td>\n",
              "      <td>81</td>\n",
              "      <td>81</td>\n",
              "      <td>81</td>\n",
              "      <td>81</td>\n",
              "      <td>66</td>\n",
              "      <td>70</td>\n",
              "      <td>68</td>\n",
              "      <td>81</td>\n",
              "    </tr>\n",
              "    <tr>\n",
              "      <td>Strategy</td>\n",
              "      <td>15</td>\n",
              "      <td>15</td>\n",
              "      <td>15</td>\n",
              "      <td>15</td>\n",
              "      <td>15</td>\n",
              "      <td>15</td>\n",
              "      <td>15</td>\n",
              "      <td>15</td>\n",
              "      <td>5</td>\n",
              "      <td>5</td>\n",
              "      <td>5</td>\n",
              "      <td>15</td>\n",
              "    </tr>\n",
              "  </tbody>\n",
              "</table>\n",
              "</div>"
            ],
            "text/plain": [
              "              index  name  platform  year_of_release  na_sales  eu_sales  \\\n",
              "genre                                                                      \n",
              "Action          310   310       310              310       310       310   \n",
              "Adventure        63    63        63               63        63        63   \n",
              "Fighting         27    27        27               27        27        27   \n",
              "Misc             56    56        56               56        56        56   \n",
              "Platform         21    21        21               21        21        21   \n",
              "Puzzle            8     8         8                8         8         8   \n",
              "Racing           36    36        36               36        36        36   \n",
              "Role-Playing    106   106       106              106       106       106   \n",
              "Shooter          74    74        74               74        74        74   \n",
              "Simulation       19    19        19               19        19        19   \n",
              "Sports           81    81        81               81        81        81   \n",
              "Strategy         15    15        15               15        15        15   \n",
              "\n",
              "              jp_sales  other_sales  critic_score  user_score  rating  \\\n",
              "genre                                                                   \n",
              "Action             310          310           150         164     172   \n",
              "Adventure           63           63            22          25      27   \n",
              "Fighting            27           27            16          16      16   \n",
              "Misc                56           56            22          22      28   \n",
              "Platform            21           21            17          17      18   \n",
              "Puzzle               8            8             2           2       4   \n",
              "Racing              36           36            28          28      28   \n",
              "Role-Playing       106          106            45          45      46   \n",
              "Shooter             74           74            62          61      62   \n",
              "Simulation          19           19             8           7       9   \n",
              "Sports              81           81            66          70      68   \n",
              "Strategy            15           15             5           5       5   \n",
              "\n",
              "              total_sales  \n",
              "genre                      \n",
              "Action                310  \n",
              "Adventure              63  \n",
              "Fighting               27  \n",
              "Misc                   56  \n",
              "Platform               21  \n",
              "Puzzle                  8  \n",
              "Racing                 36  \n",
              "Role-Playing          106  \n",
              "Shooter                74  \n",
              "Simulation             19  \n",
              "Sports                 81  \n",
              "Strategy               15  "
            ]
          },
          "metadata": {
            "tags": []
          },
          "execution_count": 49
        }
      ]
    },
    {
      "cell_type": "code",
      "metadata": {
        "id": "NCe7oTORV_aL",
        "outputId": "190fa9c8-72c3-46db-947f-a5b62ddb674f"
      },
      "source": [
        "top_genres = df_potential.groupby('genre')['total_sales'].mean().sort_values(ascending = False)\n",
        "top_genres"
      ],
      "execution_count": null,
      "outputs": [
        {
          "output_type": "execute_result",
          "data": {
            "text/plain": [
              "genre\n",
              "Shooter         1.808784\n",
              "Sports          0.926049\n",
              "Role-Playing    0.750566\n",
              "Fighting        0.666667\n",
              "Platform        0.477143\n",
              "Racing          0.473611\n",
              "Action          0.466903\n",
              "Misc            0.327857\n",
              "Simulation      0.299474\n",
              "Adventure       0.168095\n",
              "Puzzle          0.111250\n",
              "Strategy        0.095333\n",
              "Name: total_sales, dtype: float64"
            ]
          },
          "metadata": {
            "tags": []
          },
          "execution_count": 50
        }
      ]
    },
    {
      "cell_type": "markdown",
      "metadata": {
        "id": "qDQqgNAUV_aL"
      },
      "source": [
        "### Вывод"
      ]
    },
    {
      "cell_type": "markdown",
      "metadata": {
        "id": "imhTitV_V_aM"
      },
      "source": [
        "В данном шаге рассмотрели сколько игр выпускалось в разные годы, выбрали платформы с наибольшим суммарными продажами и посмотрели рапределения по годам, посмотрели средний цикл жизни платформы. Выбрали несколько потенциально прибыльных платформ. Посмотрели как влияют отзывы критиков и пользователей на продажи для этих платформ. Выделили наиболее востребованные и менее востребованные жанры игр."
      ]
    },
    {
      "cell_type": "markdown",
      "metadata": {
        "id": "y7QsbOryV_aM"
      },
      "source": [
        "## Анализ пользователей разных регионов"
      ]
    },
    {
      "cell_type": "markdown",
      "metadata": {
        "id": "r0V-tjn1V_aM"
      },
      "source": [
        "Определим для пользователей каждого региона топ-5 популярных платформ"
      ]
    },
    {
      "cell_type": "markdown",
      "metadata": {
        "id": "kBSe9kvgV_aM"
      },
      "source": [
        "Топ-5 для региона NA:"
      ]
    },
    {
      "cell_type": "code",
      "metadata": {
        "id": "8FS10C19V_aN",
        "outputId": "eeda02fa-68cf-40a0-9f71-d2f248ba1f29"
      },
      "source": [
        "df_potential_over.groupby('platform')['na_sales'].sum().sort_values(ascending = False).head()"
      ],
      "execution_count": null,
      "outputs": [
        {
          "output_type": "execute_result",
          "data": {
            "text/plain": [
              "platform\n",
              "PS4     98.61\n",
              "XOne    81.27\n",
              "X360    28.30\n",
              "3DS     22.64\n",
              "PS3     22.05\n",
              "Name: na_sales, dtype: float64"
            ]
          },
          "metadata": {
            "tags": []
          },
          "execution_count": 51
        }
      ]
    },
    {
      "cell_type": "markdown",
      "metadata": {
        "id": "vNHcu6peV_aN"
      },
      "source": [
        "Топ-5 для региона EU:"
      ]
    },
    {
      "cell_type": "code",
      "metadata": {
        "id": "W5hHhyMwV_aN",
        "outputId": "6ae60b29-0420-454d-b73e-bfae035a60c6"
      },
      "source": [
        "df_potential_over.groupby('platform')['eu_sales'].sum().sort_values(ascending = False).head()"
      ],
      "execution_count": null,
      "outputs": [
        {
          "output_type": "execute_result",
          "data": {
            "text/plain": [
              "platform\n",
              "PS4     130.04\n",
              "XOne     46.25\n",
              "PS3      25.54\n",
              "PC       17.97\n",
              "3DS      16.12\n",
              "Name: eu_sales, dtype: float64"
            ]
          },
          "metadata": {
            "tags": []
          },
          "execution_count": 70
        }
      ]
    },
    {
      "cell_type": "markdown",
      "metadata": {
        "id": "y-gTrNpQV_aN"
      },
      "source": [
        "Топ-5 для региона JP:"
      ]
    },
    {
      "cell_type": "code",
      "metadata": {
        "id": "PwFr-Qe3V_aO",
        "outputId": "db841e68-8200-4011-ba4a-5e35476929ee"
      },
      "source": [
        "df_potential_over.groupby('platform')['jp_sales'].sum().sort_values(ascending = False).head()"
      ],
      "execution_count": null,
      "outputs": [
        {
          "output_type": "execute_result",
          "data": {
            "text/plain": [
              "platform\n",
              "3DS     44.24\n",
              "PS4     15.02\n",
              "PSV     14.54\n",
              "PS3     11.22\n",
              "WiiU     7.31\n",
              "Name: jp_sales, dtype: float64"
            ]
          },
          "metadata": {
            "tags": []
          },
          "execution_count": 71
        }
      ]
    },
    {
      "cell_type": "markdown",
      "metadata": {
        "id": "1493AEKJV_aO"
      },
      "source": [
        "Видно, что для Японского региона популярны приставки японского происхождения, в то время как приставки американского происхождения не входят даже в том-5. В Американском регионе лидер приставка американского производства, хотя остальные практически не отстают. В Европе японская приставка - в лидерах, американская - немного отстает."
      ]
    },
    {
      "cell_type": "markdown",
      "metadata": {
        "id": "bcQ2Vr9kV_aO"
      },
      "source": [
        "Определим для пользователей каждого региона топ-5 популярных жанров"
      ]
    },
    {
      "cell_type": "markdown",
      "metadata": {
        "id": "Sgw6wecDV_aO"
      },
      "source": [
        "Топ-5 для региона NA:"
      ]
    },
    {
      "cell_type": "code",
      "metadata": {
        "id": "VjmhiiXbV_aO",
        "outputId": "10460afd-cd30-4e43-8419-dc248a24d17e"
      },
      "source": [
        "df_potential_over.groupby('genre')['na_sales'].sum().sort_values(ascending = False).head()"
      ],
      "execution_count": null,
      "outputs": [
        {
          "output_type": "execute_result",
          "data": {
            "text/plain": [
              "genre\n",
              "Shooter         79.02\n",
              "Action          72.53\n",
              "Sports          46.13\n",
              "Role-Playing    33.47\n",
              "Misc            15.05\n",
              "Name: na_sales, dtype: float64"
            ]
          },
          "metadata": {
            "tags": []
          },
          "execution_count": 72
        }
      ]
    },
    {
      "cell_type": "code",
      "metadata": {
        "id": "YEruGo0mV_aP",
        "outputId": "0c3647c6-9346-4f69-d1e4-0ab338a14ae6"
      },
      "source": [
        "df_potential_over.groupby('genre')['na_sales'].mean().sort_values(ascending = False).head()"
      ],
      "execution_count": null,
      "outputs": [
        {
          "output_type": "execute_result",
          "data": {
            "text/plain": [
              "genre\n",
              "Shooter         0.617344\n",
              "Sports          0.286522\n",
              "Fighting        0.207167\n",
              "Platform        0.178684\n",
              "Role-Playing    0.151448\n",
              "Name: na_sales, dtype: float64"
            ]
          },
          "metadata": {
            "tags": []
          },
          "execution_count": 73
        }
      ]
    },
    {
      "cell_type": "markdown",
      "metadata": {
        "id": "XKAsynOWV_aP"
      },
      "source": [
        "Топ-5 для региона EU:"
      ]
    },
    {
      "cell_type": "code",
      "metadata": {
        "id": "N7_Cs3fxV_aP",
        "outputId": "d97ce62d-17c0-4c69-e645-5ffa4b0c562e"
      },
      "source": [
        "df_potential_over.groupby('genre')['eu_sales'].sum().sort_values(ascending = False).head()"
      ],
      "execution_count": null,
      "outputs": [
        {
          "output_type": "execute_result",
          "data": {
            "text/plain": [
              "genre\n",
              "Action          74.68\n",
              "Shooter         65.52\n",
              "Sports          45.73\n",
              "Role-Playing    28.17\n",
              "Racing          14.13\n",
              "Name: eu_sales, dtype: float64"
            ]
          },
          "metadata": {
            "tags": []
          },
          "execution_count": 74
        }
      ]
    },
    {
      "cell_type": "code",
      "metadata": {
        "id": "Gae2Nu-UV_aP",
        "outputId": "3b8692cb-8cb0-4745-db71-d87e63f0c889"
      },
      "source": [
        "df_potential_over.groupby('genre')['eu_sales'].mean().sort_values(ascending = False).head()"
      ],
      "execution_count": null,
      "outputs": [
        {
          "output_type": "execute_result",
          "data": {
            "text/plain": [
              "genre\n",
              "Shooter       0.511875\n",
              "Sports        0.284037\n",
              "Racing        0.204783\n",
              "Platform      0.178947\n",
              "Simulation    0.165909\n",
              "Name: eu_sales, dtype: float64"
            ]
          },
          "metadata": {
            "tags": []
          },
          "execution_count": 75
        }
      ]
    },
    {
      "cell_type": "markdown",
      "metadata": {
        "id": "piclN5kZV_aQ"
      },
      "source": [
        "Топ-5 для региона JP:"
      ]
    },
    {
      "cell_type": "code",
      "metadata": {
        "id": "lVa-aC3iV_aQ",
        "outputId": "dab38b6b-46a5-4b9e-fd63-5d64e510f5e7"
      },
      "source": [
        "df_potential_over.groupby('genre')['jp_sales'].sum().sort_values(ascending = False).head()"
      ],
      "execution_count": null,
      "outputs": [
        {
          "output_type": "execute_result",
          "data": {
            "text/plain": [
              "genre\n",
              "Role-Playing    31.16\n",
              "Action          29.58\n",
              "Fighting         6.37\n",
              "Misc             5.61\n",
              "Shooter          4.87\n",
              "Name: jp_sales, dtype: float64"
            ]
          },
          "metadata": {
            "tags": []
          },
          "execution_count": 76
        }
      ]
    },
    {
      "cell_type": "code",
      "metadata": {
        "id": "Hk9UEvm1V_aQ",
        "outputId": "afa4e248-bcb7-4d11-ed70-b006fb55dec5"
      },
      "source": [
        "df_potential_over.groupby('genre')['jp_sales'].mean().sort_values(ascending = False).head()"
      ],
      "execution_count": null,
      "outputs": [
        {
          "output_type": "execute_result",
          "data": {
            "text/plain": [
              "genre\n",
              "Role-Playing    0.140995\n",
              "Fighting        0.106167\n",
              "Platform        0.070789\n",
              "Puzzle          0.066429\n",
              "Simulation      0.052500\n",
              "Name: jp_sales, dtype: float64"
            ]
          },
          "metadata": {
            "tags": []
          },
          "execution_count": 77
        }
      ]
    },
    {
      "cell_type": "markdown",
      "metadata": {
        "id": "0dB0wyIkV_aR"
      },
      "source": [
        "Топ-5 игр для всех регионов выглядят похоже, но в Японском регионе, в отличие от других, пользователи особенно любят ролевые игры"
      ]
    },
    {
      "cell_type": "markdown",
      "metadata": {
        "id": "KlOyoQdqV_aR"
      },
      "source": [
        "Определим влияет ли ESRB рейтинг на продажи для пользовотелей каждого региона"
      ]
    },
    {
      "cell_type": "markdown",
      "metadata": {
        "id": "y67Ne9_0V_aR"
      },
      "source": [
        "Заменим пропущенные значения в ESRB рейтинге значением unknown"
      ]
    },
    {
      "cell_type": "code",
      "metadata": {
        "scrolled": true,
        "id": "nm0ofFYjV_aS",
        "outputId": "acb31352-5356-4fa5-9232-d80435d9d971"
      },
      "source": [
        "df_potential_over['rating'] .fillna('unknown', inplace = True)"
      ],
      "execution_count": null,
      "outputs": [
        {
          "output_type": "stream",
          "text": [
            "/opt/conda/lib/python3.7/site-packages/pandas/core/generic.py:6287: SettingWithCopyWarning: \n",
            "A value is trying to be set on a copy of a slice from a DataFrame\n",
            "\n",
            "See the caveats in the documentation: http://pandas.pydata.org/pandas-docs/stable/user_guide/indexing.html#returning-a-view-versus-a-copy\n",
            "  self._update_inplace(new_data)\n"
          ],
          "name": "stderr"
        }
      ]
    },
    {
      "cell_type": "markdown",
      "metadata": {
        "id": "HI-AwUZxV_aS"
      },
      "source": [
        "Для региона NA:"
      ]
    },
    {
      "cell_type": "code",
      "metadata": {
        "id": "qokdRPeDV_aS",
        "outputId": "5c1fdc73-f469-4f3f-f24e-d31c6561a2a9"
      },
      "source": [
        "df_potential_over.groupby('rating')['na_sales'].sum().sort_values(ascending = False)"
      ],
      "execution_count": null,
      "outputs": [
        {
          "output_type": "execute_result",
          "data": {
            "text/plain": [
              "rating\n",
              "M          96.42\n",
              "unknown    64.72\n",
              "E          50.74\n",
              "T          38.95\n",
              "E10+       33.23\n",
              "Name: na_sales, dtype: float64"
            ]
          },
          "metadata": {
            "tags": []
          },
          "execution_count": 79
        }
      ]
    },
    {
      "cell_type": "markdown",
      "metadata": {
        "id": "tswCPt2VV_aS"
      },
      "source": [
        "Для региона EU:"
      ]
    },
    {
      "cell_type": "code",
      "metadata": {
        "id": "T9moYJWmV_aS",
        "outputId": "28d49242-d0da-4bbc-d3ee-99459cce87c5"
      },
      "source": [
        "df_potential_over.groupby('rating')['eu_sales'].sum().sort_values(ascending = False)"
      ],
      "execution_count": null,
      "outputs": [
        {
          "output_type": "execute_result",
          "data": {
            "text/plain": [
              "rating\n",
              "M          93.44\n",
              "unknown    58.95\n",
              "E          58.06\n",
              "T          34.07\n",
              "E10+       26.16\n",
              "Name: eu_sales, dtype: float64"
            ]
          },
          "metadata": {
            "tags": []
          },
          "execution_count": 80
        }
      ]
    },
    {
      "cell_type": "markdown",
      "metadata": {
        "id": "ZT-xKLIpV_aT"
      },
      "source": [
        "Для региона JP:"
      ]
    },
    {
      "cell_type": "code",
      "metadata": {
        "id": "fQg94AQzV_aT",
        "outputId": "112cab20-57fc-4cef-b05c-618e0a074d20"
      },
      "source": [
        "df_potential_over.groupby('rating')['jp_sales'].sum().sort_values(ascending = False)"
      ],
      "execution_count": null,
      "outputs": [
        {
          "output_type": "execute_result",
          "data": {
            "text/plain": [
              "rating\n",
              "unknown    56.90\n",
              "T          14.78\n",
              "E           8.94\n",
              "M           8.01\n",
              "E10+        4.46\n",
              "Name: jp_sales, dtype: float64"
            ]
          },
          "metadata": {
            "tags": []
          },
          "execution_count": 81
        }
      ]
    },
    {
      "cell_type": "markdown",
      "metadata": {
        "id": "NJP4YQ7cV_aT"
      },
      "source": [
        "Как мы видим самый популярный рейтинг игр - Е во всех регионах. В топ-3 во всех регионах также входят рейтинги М и Т."
      ]
    },
    {
      "cell_type": "markdown",
      "metadata": {
        "id": "XTt6Ot5oV_aU"
      },
      "source": [
        "### Вывод"
      ]
    },
    {
      "cell_type": "markdown",
      "metadata": {
        "id": "x-XDxolnV_aU"
      },
      "source": [
        "В данном шаге проанализировали самые популярные платформы, жанры и рейтинги для разных регионов"
      ]
    },
    {
      "cell_type": "markdown",
      "metadata": {
        "id": "JkZ-MIMvV_aU"
      },
      "source": [
        "## Проверим гипотезы"
      ]
    },
    {
      "cell_type": "markdown",
      "metadata": {
        "id": "QtVoJKoRV_aU"
      },
      "source": [
        "Проверим гипотезу, что средние пользовательские рейтинги платформ Xbox One и PC одинаковые. За нулевую теорию примем то что они одинаковые, за альтернативную - то что они отличаются. Критерием оценки примем оценку пользователей"
      ]
    },
    {
      "cell_type": "code",
      "metadata": {
        "id": "o9m112bFV_aU"
      },
      "source": [
        "xone_test = df_potential_over[df_potential_over['platform'] == 'XOne']['user_score']\n",
        "#xone_test"
      ],
      "execution_count": null,
      "outputs": []
    },
    {
      "cell_type": "code",
      "metadata": {
        "id": "64dJdCSTV_aV"
      },
      "source": [
        "pc_test = df_potential_over[df_potential_over['platform'] == 'PC']['user_score']\n",
        "#pc_test"
      ],
      "execution_count": null,
      "outputs": []
    },
    {
      "cell_type": "code",
      "metadata": {
        "id": "8XSHYbktV_aV",
        "outputId": "d3d75b40-6ae3-4144-ea69-102662ab66e4"
      },
      "source": [
        "alpha = 0.05\n",
        "\n",
        "results = st.ttest_ind(xone_test.dropna(), pc_test.dropna(), equal_var = True)\n",
        "\n",
        "print('p-значение:', results.pvalue)\n",
        "\n",
        "if results.pvalue < alpha:\n",
        "    print('Отвергаем нулевую гипотезу')\n",
        "else:\n",
        "    print('Не получилось отвергнуть нулевую гипотезу') "
      ],
      "execution_count": null,
      "outputs": [
        {
          "output_type": "stream",
          "text": [
            "p-значение: 0.10450507919348415\n",
            "Не получилось отвергнуть нулевую гипотезу\n"
          ],
          "name": "stdout"
        }
      ]
    },
    {
      "cell_type": "markdown",
      "metadata": {
        "id": "g5CgYgLdV_aV"
      },
      "source": [
        "По результатам теста видно, что средние пользовательские рейтинги платформ одинаковые"
      ]
    },
    {
      "cell_type": "markdown",
      "metadata": {
        "id": "xjCTH1uqV_aV"
      },
      "source": [
        "Проверим гипотезу, что средние пользовательские рейтинги жанров Action и Sports разные. За нулевую теорию примем то что они одинаковые, за альтернативную - то что они отличаются. Критерием оценки примем оценку пользователей"
      ]
    },
    {
      "cell_type": "code",
      "metadata": {
        "id": "ryzXSRByV_aV"
      },
      "source": [
        "action_test = df_potential_over[df_potential_over['genre'] == 'Action']['user_score']"
      ],
      "execution_count": null,
      "outputs": []
    },
    {
      "cell_type": "code",
      "metadata": {
        "id": "ublpM-JnV_aW"
      },
      "source": [
        "sports_test = df_potential_over[df_potential_over['genre'] == 'Sports']['user_score']"
      ],
      "execution_count": null,
      "outputs": []
    },
    {
      "cell_type": "code",
      "metadata": {
        "id": "JmbsasYuV_aW",
        "outputId": "eaa3602b-cac0-4289-f98b-7e289c8b2d23"
      },
      "source": [
        "alpha = 0.05\n",
        "\n",
        "results = st.ttest_ind(action_test.dropna(), sports_test.dropna(), equal_var = True)\n",
        "\n",
        "print('p-значение:', results.pvalue)\n",
        "\n",
        "if results.pvalue < alpha:\n",
        "    print('Отвергаем нулевую гипотезу')\n",
        "else:\n",
        "    print('Не получилось отвергнуть нулевую гипотезу') "
      ],
      "execution_count": null,
      "outputs": [
        {
          "output_type": "stream",
          "text": [
            "p-значение: 2.8711147985105864e-19\n",
            "Отвергаем нулевую гипотезу\n"
          ],
          "name": "stdout"
        }
      ]
    },
    {
      "cell_type": "markdown",
      "metadata": {
        "id": "HWmOYqbCV_aW"
      },
      "source": [
        "По результатам теста видно, что средние пользовательские рейтинги жанров разные"
      ]
    },
    {
      "cell_type": "markdown",
      "metadata": {
        "id": "nv-iOhsZV_aW"
      },
      "source": [
        "### Вывод"
      ]
    },
    {
      "cell_type": "markdown",
      "metadata": {
        "id": "tN3WpJrEV_aW"
      },
      "source": [
        "Проведены тесты, результаты которых подтвердили первую теорию и отвергли вторую"
      ]
    },
    {
      "cell_type": "markdown",
      "metadata": {
        "id": "_yNKSW5-V_aX"
      },
      "source": [
        "## Общий вывод"
      ]
    },
    {
      "cell_type": "markdown",
      "metadata": {
        "id": "HIPp9jzYV_aX"
      },
      "source": [
        "Исходя из проведенного исследования целесообразно будет сделать ставку на следующие продукты:\n",
        "\n",
        "- для региона NA: платформы - Xone, PS4. Жанры - Shooter, Action, Sports, Role-Playing, Fighting. Рейтинг игр - М, Е и Т;\n",
        "- для региона EU: платформы - Xone, PS4, PC. Жанры - Shooter, Action, Sports, Racing. Рейтинг игр - М, Е и Т;\n",
        "- для региона JP: платформы - PS4, 3DS, PSV. Жанры - Action, Role-Playing, Fighting. Возрастной рейтинг определить не удалось."
      ]
    },
    {
      "cell_type": "code",
      "metadata": {
        "id": "uX36kDgqV_aY"
      },
      "source": [
        ""
      ],
      "execution_count": null,
      "outputs": []
    }
  ]
}